{
 "cells": [
  {
   "cell_type": "code",
   "execution_count": 1,
   "id": "f1bf4b3e-ade3-4205-9d7b-83f1967d4297",
   "metadata": {},
   "outputs": [],
   "source": [
    "import torch\n",
    "import torch.nn as nn\n",
    "from torchvision import datasets, transforms\n",
    "from torchvision.models.resnet import BasicBlock, resnet18, resnet50\n",
    "import torch.optim as optim\n",
    "import numpy as np\n",
    "from tqdm import tqdm\n",
    "from sklearn.metrics import classification_report\n",
    "from sklearn.metrics import confusion_matrix\n",
    "from pgd_purify import vae_purify, stae_purify, pgd_linf\n",
    "from model.nn_model import ResNetEnc, ResNetVAE\n",
    "import random\n",
    "import os\n",
    "\n",
    "def seed_everything(seed: int):    \n",
    "    random.seed(seed)\n",
    "    os.environ['PYTHONHASHSEED'] = str(seed)\n",
    "    np.random.seed(seed)\n",
    "    torch.manual_seed(seed)\n",
    "    torch.cuda.manual_seed(seed)\n",
    "    torch.backends.cudnn.deterministic = True\n",
    "    torch.backends.cudnn.benchmark = True\n",
    "    \n",
    "seed_everything(0)"
   ]
  },
  {
   "cell_type": "code",
   "execution_count": 2,
   "id": "61301588-3565-4183-95bd-ff1a18d6e685",
   "metadata": {},
   "outputs": [],
   "source": [
    "device = torch.device(\"cuda:2\" if torch.cuda.is_available() else \"cpu\")\n",
    "batch_size = 256\n",
    "epoch_num = 2048\n",
    "lr_decay_step = 1024\n",
    "classification_weight = 2048\n",
    "vae_beta = 1"
   ]
  },
  {
   "cell_type": "code",
   "execution_count": 3,
   "id": "7e169c41-e82a-41f6-9065-45b8de6f36e1",
   "metadata": {},
   "outputs": [
    {
     "name": "stdout",
     "output_type": "stream",
     "text": [
      "Files already downloaded and verified\n",
      "Files already downloaded and verified\n"
     ]
    }
   ],
   "source": [
    "transform = transforms.Compose(\n",
    "    [transforms.ToTensor()])\n",
    "\n",
    "random_transforms_list = transforms.RandomApply(torch.nn.ModuleList([transforms.ColorJitter(),\n",
    "                                                         transforms.RandomAffine((-20, 20),\n",
    "                                                        translate=(0.0, 0.1), scale=(0.9, 1.1), \n",
    "                                                        fill=0.5)]), p=0.3)\n",
    "\n",
    "aug_transform = transforms.Compose(\n",
    "    [transforms.ToTensor(), transforms.RandomHorizontalFlip(p=0.5), random_transforms_list])\n",
    "\n",
    "trainset = datasets.CIFAR10(root='./data', train=True, download=True, transform=aug_transform)\n",
    "train_loader = torch.utils.data.DataLoader(trainset, batch_size=batch_size, shuffle=True, num_workers=1)\n",
    "\n",
    "testset = datasets.CIFAR10(root='./data', train=False, download=True, transform=transform)\n",
    "test_loader = torch.utils.data.DataLoader(testset, batch_size=batch_size, shuffle=False, num_workers=1)"
   ]
  },
  {
   "cell_type": "code",
   "execution_count": 4,
   "id": "14ddbe71-bc0f-4ee7-a600-1900420ef83f",
   "metadata": {},
   "outputs": [
    {
     "name": "stderr",
     "output_type": "stream",
     "text": [
      "/home/de723641/venv/impus/lib/python3.10/site-packages/torchvision/models/_utils.py:208: UserWarning: The parameter 'pretrained' is deprecated since 0.13 and may be removed in the future, please use 'weights' instead.\n",
      "  warnings.warn(\n",
      "/home/de723641/venv/impus/lib/python3.10/site-packages/torchvision/models/_utils.py:223: UserWarning: Arguments other than a weight enum or `None` for 'weights' are deprecated since 0.13 and may be removed in the future. The current behavior is equivalent to passing `weights=ResNet50_Weights.IMAGENET1K_V1`. You can also use `weights=ResNet50_Weights.DEFAULT` to get the most up-to-date weights.\n",
      "  warnings.warn(msg)\n"
     ]
    }
   ],
   "source": [
    "net = ResNetEnc(image_size=32)\n",
    "net = net.to(device)\n",
    "ResVAE = ResNetVAE(net).to(device)\n",
    "ResVAE = ResVAE.to(device)"
   ]
  },
  {
   "cell_type": "code",
   "execution_count": 5,
   "id": "c8f1131c-1889-4269-8f92-9bb16f1d8554",
   "metadata": {},
   "outputs": [],
   "source": [
    "CE_Loss = nn.CrossEntropyLoss()\n",
    "mseloss = nn.MSELoss(reduction='sum')\n",
    "optimizer = torch.optim.Adam(ResVAE.parameters(), lr=1e-4)\n",
    "scheduler = optim.lr_scheduler.MultiStepLR(optimizer, milestones=[lr_decay_step], gamma=0.1)"
   ]
  },
  {
   "cell_type": "code",
   "execution_count": 6,
   "id": "8729b2d1-176d-4d51-a30d-73cebde56d2d",
   "metadata": {},
   "outputs": [
    {
     "name": "stderr",
     "output_type": "stream",
     "text": [
      "100%|██████████████████████████████████████████████████████████████████████████| 2048/2048 [11:59:16<00:00, 21.07s/it, train loss sum=3.65e+6, test acc=0.935]\n"
     ]
    }
   ],
   "source": [
    "test_acc = 0\n",
    "pbar = tqdm(range(epoch_num))\n",
    "for epoch in pbar:\n",
    "    loss_sum = 0\n",
    "    ResVAE.train()\n",
    "    for batch_idx, (data, target) in enumerate(train_loader):\n",
    "        data, target = data.to(device), target.to(device)\n",
    "        # VAE\n",
    "        x_reconst, z, y, mu, log_var = ResVAE(data, deterministic=False, classification_only=False)\n",
    "        recons_loss = torch.sum((x_reconst - data) ** 2)\n",
    "        kld_loss = -0.5 * torch.sum(1 + log_var - mu ** 2 - log_var.exp()) \n",
    "        # jointly training\n",
    "        loss_val = CE_Loss(y, target) * classification_weight + recons_loss + vae_beta * kld_loss\n",
    "        loss_sum += loss_val.item()\n",
    "        optimizer.zero_grad()\n",
    "        loss_val.backward()\n",
    "        optimizer.step()\n",
    "            \n",
    "\n",
    "    scheduler.step()    \n",
    "    ResVAE.eval()\n",
    "    \n",
    "    # eval on test\n",
    "    pred_list = []\n",
    "    gt_list = []\n",
    "    for batch_idx, (data, target) in enumerate(test_loader):\n",
    "        data, target = data.to(device), target.to(device)\n",
    "        with torch.no_grad():\n",
    "            x_reconst, z, y_test, mu, log_var = ResVAE(data, deterministic=True, classification_only=False)\n",
    "        \n",
    "        pred_list += list(y_test.argmax(-1).cpu().detach().numpy())\n",
    "        gt_list += list(target.detach().cpu().numpy())\n",
    "        \n",
    "    test_acc = np.sum(np.array(gt_list) == np.array(pred_list)) / len(gt_list)\n",
    "    pbar.set_postfix({\"train loss sum\": loss_sum, \"test acc\": test_acc})"
   ]
  },
  {
   "cell_type": "code",
   "execution_count": 7,
   "id": "e3b10fe3-7471-488c-8b29-83b36a159c9f",
   "metadata": {},
   "outputs": [],
   "source": [
    "ResVAE = ResVAE.eval()\n",
    "torch.save(ResVAE.state_dict(), './model/cifar_resnet.pth')"
   ]
  },
  {
   "cell_type": "code",
   "execution_count": 8,
   "id": "9489b4ee-af8c-43ac-8db8-28147d8203aa",
   "metadata": {},
   "outputs": [
    {
     "name": "stdout",
     "output_type": "stream",
     "text": [
      "              precision    recall  f1-score   support\n",
      "\n",
      "           0       0.94      0.95      0.94      1000\n",
      "           1       0.97      0.97      0.97      1000\n",
      "           2       0.92      0.91      0.91      1000\n",
      "           3       0.86      0.86      0.86      1000\n",
      "           4       0.93      0.93      0.93      1000\n",
      "           5       0.89      0.89      0.89      1000\n",
      "           6       0.94      0.97      0.96      1000\n",
      "           7       0.96      0.94      0.95      1000\n",
      "           8       0.96      0.97      0.96      1000\n",
      "           9       0.97      0.95      0.96      1000\n",
      "\n",
      "    accuracy                           0.94     10000\n",
      "   macro avg       0.94      0.93      0.93     10000\n",
      "weighted avg       0.94      0.94      0.93     10000\n",
      "\n",
      "[[948   2  14   7   2   0   0   4  18   5]\n",
      " [  3 974   0   0   1   1   2   1   1  17]\n",
      " [ 18   0 912  19  13  16  14   5   3   0]\n",
      " [  3   1  15 865  19  65  20   4   6   2]\n",
      " [  4   0  18  15 932   9  13   8   1   0]\n",
      " [  6   0  10  63  13 890   5  12   0   1]\n",
      " [  2   1  12  14   2   0 966   0   2   1]\n",
      " [  5   0   6  14  16  17   0 939   1   2]\n",
      " [ 13   3   7   2   0   1   2   0 969   3]\n",
      " [  5  24   2   3   0   0   1   1   9 955]]\n"
     ]
    }
   ],
   "source": [
    "print(classification_report(gt_list, pred_list))\n",
    "print(confusion_matrix(gt_list, pred_list))"
   ]
  },
  {
   "cell_type": "code",
   "execution_count": 9,
   "id": "7d8c832b-f021-4999-8eff-585ab87404c9",
   "metadata": {},
   "outputs": [
    {
     "name": "stderr",
     "output_type": "stream",
     "text": [
      "40it [39:35, 59.38s/it]"
     ]
    },
    {
     "name": "stdout",
     "output_type": "stream",
     "text": [
      "adversarial acc\n",
      "              precision    recall  f1-score   support\n",
      "\n",
      "           0       0.22      0.20      0.21      1000\n",
      "           1       0.38      0.41      0.39      1000\n",
      "           2       0.10      0.13      0.12      1000\n",
      "           3       0.08      0.08      0.08      1000\n",
      "           4       0.21      0.16      0.18      1000\n",
      "           5       0.13      0.15      0.14      1000\n",
      "           6       0.14      0.13      0.13      1000\n",
      "           7       0.28      0.27      0.28      1000\n",
      "           8       0.31      0.25      0.28      1000\n",
      "           9       0.27      0.32      0.29      1000\n",
      "\n",
      "    accuracy                           0.21     10000\n",
      "   macro avg       0.21      0.21      0.21     10000\n",
      "weighted avg       0.21      0.21      0.21     10000\n",
      "\n",
      "[[201  42 141  28  51  10 228  22 218  59]\n",
      " [ 79 407  42  43   6  60  26  14  62 261]\n",
      " [ 79  27 134 103 102  50  83 221  33 168]\n",
      " [ 21  60  93  77 165 399  95  37  20  33]\n",
      " [ 24   1 222 179 160  97 112 125  30  50]\n",
      " [ 16 120  78 282  45 152 107  55  45 100]\n",
      " [130  47 166 161 120  95 126  88  17  50]\n",
      " [ 22  17 215  50  45 207  97 267  34  46]\n",
      " [293  77  67  29  60  30  33  81 250  80]\n",
      " [ 45 268 119  33  18  60  19  28  93 317]]\n",
      "purify acc\n",
      "              precision    recall  f1-score   support\n",
      "\n",
      "           0       0.70      0.72      0.71      1000\n",
      "           1       0.80      0.73      0.76      1000\n",
      "           2       0.55      0.48      0.51      1000\n",
      "           3       0.42      0.43      0.43      1000\n",
      "           4       0.54      0.58      0.56      1000\n",
      "           5       0.52      0.54      0.53      1000\n",
      "           6       0.59      0.64      0.62      1000\n",
      "           7       0.78      0.65      0.71      1000\n",
      "           8       0.70      0.75      0.73      1000\n",
      "           9       0.68      0.73      0.70      1000\n",
      "\n",
      "    accuracy                           0.62     10000\n",
      "   macro avg       0.63      0.62      0.63     10000\n",
      "weighted avg       0.63      0.62      0.63     10000\n",
      "\n",
      "[[721  10  36  19  25   8  32   7 111  31]\n",
      " [ 36 728  14  19   3  12  12   1  52 123]\n",
      " [ 65  11 483  88 134  50  92  40  14  23]\n",
      " [ 16  15  73 434  88 224  88  15  19  28]\n",
      " [ 22   1  79  76 578  50 105  58  19  12]\n",
      " [ 11  16  44 222  44 539  52  29  18  25]\n",
      " [ 13   9  66  89 106  36 642   8  11  20]\n",
      " [ 23   1  44  53  75  86  27 645  15  31]\n",
      " [ 95  25  20  14  13  13  15   7 750  48]\n",
      " [ 27  91  17  19   6  20  19  13  59 729]]\n"
     ]
    },
    {
     "name": "stderr",
     "output_type": "stream",
     "text": [
      "\n"
     ]
    }
   ],
   "source": [
    "# attack and purify\n",
    "pred_list = []\n",
    "pfy_pred_list = []\n",
    "gt_list = []\n",
    "ResVAE = ResVAE.eval()\n",
    "for batch_idx, (data, target) in tqdm(enumerate(test_loader)):\n",
    "    data, target = data.to(device), target.to(device)\n",
    "    adv_vae = pgd_linf(data.to(device), target.to(device), ResVAE, atk_itr=128, eps=8/255, alpha=1/255, device=device)\n",
    "    with torch.no_grad():\n",
    "        y_test = ResVAE(adv_vae, deterministic=True, classification_only=True)\n",
    "\n",
    "    purify_data_vae = vae_purify(adv_vae, ResVAE, atk_itr=32, eps=8/255, random_iteration=16, device=device)\n",
    "\n",
    "    with torch.no_grad():\n",
    "        pfy_y_test = ResVAE(purify_data_vae, deterministic=True, classification_only=True)\n",
    "    \n",
    "    pred_list += list(y_test.argmax(-1).cpu().detach().numpy())\n",
    "    pfy_pred_list += list(pfy_y_test.argmax(-1).cpu().detach().numpy())\n",
    "    gt_list += list(target.detach().cpu().numpy())\n",
    "\n",
    "print('adversarial acc')\n",
    "print(classification_report(gt_list, pred_list))\n",
    "print(confusion_matrix(gt_list, pred_list))\n",
    "print('purify acc')\n",
    "print(classification_report(gt_list, pfy_pred_list))\n",
    "print(confusion_matrix(gt_list, pfy_pred_list))"
   ]
  },
  {
   "cell_type": "code",
   "execution_count": null,
   "id": "60ac6cc5-0feb-4a3d-87c8-e1185f5eecdf",
   "metadata": {},
   "outputs": [],
   "source": []
  }
 ],
 "metadata": {
  "kernelspec": {
   "display_name": "impus",
   "language": "python",
   "name": "impus"
  },
  "language_info": {
   "codemirror_mode": {
    "name": "ipython",
    "version": 3
   },
   "file_extension": ".py",
   "mimetype": "text/x-python",
   "name": "python",
   "nbconvert_exporter": "python",
   "pygments_lexer": "ipython3",
   "version": "3.10.12"
  }
 },
 "nbformat": 4,
 "nbformat_minor": 5
}
